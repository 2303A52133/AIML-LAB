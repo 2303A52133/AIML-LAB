{
  "nbformat": 4,
  "nbformat_minor": 0,
  "metadata": {
    "colab": {
      "provenance": [],
      "authorship_tag": "ABX9TyNIm/c+b9BQV7G7n/zK6Fx6",
      "include_colab_link": true
    },
    "kernelspec": {
      "name": "python3",
      "display_name": "Python 3"
    },
    "language_info": {
      "name": "python"
    }
  },
  "cells": [
    {
      "cell_type": "markdown",
      "metadata": {
        "id": "view-in-github",
        "colab_type": "text"
      },
      "source": [
        "<a href=\"https://colab.research.google.com/github/2303A52133/AIML-LAB/blob/main/Untitled14.ipynb\" target=\"_parent\"><img src=\"https://colab.research.google.com/assets/colab-badge.svg\" alt=\"Open In Colab\"/></a>"
      ]
    },
    {
      "cell_type": "code",
      "execution_count": 1,
      "metadata": {
        "colab": {
          "base_uri": "https://localhost:8080/"
        },
        "id": "qtCCX-Dp1TMg",
        "outputId": "9710ead6-44f9-4cd5-f957-3694591f03d8"
      },
      "outputs": [
        {
          "output_type": "stream",
          "name": "stdout",
          "text": [
            "Collecting ucimlrepo\n",
            "  Downloading ucimlrepo-0.0.7-py3-none-any.whl.metadata (5.5 kB)\n",
            "Requirement already satisfied: pandas>=1.0.0 in /usr/local/lib/python3.10/dist-packages (from ucimlrepo) (2.2.2)\n",
            "Requirement already satisfied: certifi>=2020.12.5 in /usr/local/lib/python3.10/dist-packages (from ucimlrepo) (2024.8.30)\n",
            "Requirement already satisfied: numpy>=1.22.4 in /usr/local/lib/python3.10/dist-packages (from pandas>=1.0.0->ucimlrepo) (1.26.4)\n",
            "Requirement already satisfied: python-dateutil>=2.8.2 in /usr/local/lib/python3.10/dist-packages (from pandas>=1.0.0->ucimlrepo) (2.8.2)\n",
            "Requirement already satisfied: pytz>=2020.1 in /usr/local/lib/python3.10/dist-packages (from pandas>=1.0.0->ucimlrepo) (2024.2)\n",
            "Requirement already satisfied: tzdata>=2022.7 in /usr/local/lib/python3.10/dist-packages (from pandas>=1.0.0->ucimlrepo) (2024.2)\n",
            "Requirement already satisfied: six>=1.5 in /usr/local/lib/python3.10/dist-packages (from python-dateutil>=2.8.2->pandas>=1.0.0->ucimlrepo) (1.16.0)\n",
            "Downloading ucimlrepo-0.0.7-py3-none-any.whl (8.0 kB)\n",
            "Installing collected packages: ucimlrepo\n",
            "Successfully installed ucimlrepo-0.0.7\n"
          ]
        }
      ],
      "source": [
        "pip install ucimlrepo"
      ]
    },
    {
      "cell_type": "code",
      "source": [
        "from ucimlrepo import fetch_ucirepo\n",
        "\n",
        "  # fetch dataset\n",
        "absenteeism_at_work = fetch_ucirepo(id=445)\n",
        "\n",
        "    # data (as pandas dataframes)\n",
        "X = absenteeism_at_work.data.features\n",
        "y = absenteeism_at_work.data.targets\n",
        "\n",
        "      # metadata\n",
        "print(absenteeism_at_work.metadata)\n",
        "\n",
        "        # variable information\n",
        "print(absenteeism_at_work.variables)\n"
      ],
      "metadata": {
        "colab": {
          "base_uri": "https://localhost:8080/"
        },
        "id": "7_ZtvjTu1U-R",
        "outputId": "251af7de-be39-4492-85f8-92a39f03d51f"
      },
      "execution_count": 4,
      "outputs": [
        {
          "output_type": "stream",
          "name": "stdout",
          "text": [
            "{'uci_id': 445, 'name': 'Absenteeism at work', 'repository_url': 'https://archive.ics.uci.edu/dataset/445/absenteeism+at+work', 'data_url': 'https://archive.ics.uci.edu/static/public/445/data.csv', 'abstract': 'The database was created with records of absenteeism at work from July 2007 to July 2010 at a courier company in Brazil.', 'area': 'Business', 'tasks': ['Classification', 'Clustering'], 'characteristics': ['Multivariate', 'Time-Series'], 'num_instances': 740, 'num_features': 19, 'feature_types': ['Integer', 'Real'], 'demographics': ['Age', 'Education Level'], 'target_col': ['Absenteeism time in hours'], 'index_col': ['ID'], 'has_missing_values': 'no', 'missing_values_symbol': None, 'year_of_dataset_creation': 2012, 'last_updated': 'Fri Mar 08 2024', 'dataset_doi': '10.24432/C5X882', 'creators': ['Andrea Martiniano', 'Ricardo Ferreira'], 'intro_paper': {'ID': 414, 'type': 'NATIVE', 'title': 'Application of a neuro fuzzy network in prediction of absenteeism at work', 'authors': 'Andréa Martiniano, R. P. Ferreira, R. Sassi, C. Affonso', 'venue': 'Iberian Conference on Information Systems and Technologies', 'year': 2012, 'journal': None, 'DOI': None, 'URL': 'https://www.semanticscholar.org/paper/Application-of-a-neuro-fuzzy-network-in-prediction-Martiniano-Ferreira/036b8cbfba37eded57ccfbd2243fd4426bdc73bd', 'sha': None, 'corpus': None, 'arxiv': None, 'mag': None, 'acl': None, 'pmid': None, 'pmcid': None}, 'additional_info': {'summary': 'The data set allows for several new combinations of attributes and attribute exclusions, or the modification of the attribute type (categorical, integer, or real) depending on the purpose of the research.The data set (Absenteeism at work - Part I) was used in academic research at the Universidade Nove de Julho - Postgraduate Program in Informatics and Knowledge Management.', 'purpose': None, 'funded_by': None, 'instances_represent': None, 'recommended_data_splits': None, 'sensitive_data': None, 'preprocessing_description': None, 'variable_info': '1. Individual identification (ID)\\r\\n2. Reason for absence (ICD).\\r\\nAbsences attested by the International Code of Diseases (ICD) stratified into 21 categories (I to XXI) as follows:\\r\\n\\r\\nI Certain infectious and parasitic diseases  \\r\\nII Neoplasms  \\r\\nIII Diseases of the blood and blood-forming organs and certain disorders involving the immune mechanism  \\r\\nIV Endocrine, nutritional and metabolic diseases  \\r\\nV Mental and behavioural disorders  \\r\\nVI Diseases of the nervous system  \\r\\nVII Diseases of the eye and adnexa  \\r\\nVIII Diseases of the ear and mastoid process  \\r\\nIX Diseases of the circulatory system  \\r\\nX Diseases of the respiratory system  \\r\\nXI Diseases of the digestive system  \\r\\nXII Diseases of the skin and subcutaneous tissue  \\r\\nXIII Diseases of the musculoskeletal system and connective tissue  \\r\\nXIV Diseases of the genitourinary system  \\r\\nXV Pregnancy, childbirth and the puerperium  \\r\\nXVI Certain conditions originating in the perinatal period  \\r\\nXVII Congenital malformations, deformations and chromosomal abnormalities  \\r\\nXVIII Symptoms, signs and abnormal clinical and laboratory findings, not elsewhere classified  \\r\\nXIX Injury, poisoning and certain other consequences of external causes  \\r\\nXX External causes of morbidity and mortality  \\r\\nXXI Factors influencing health status and contact with health services.\\r\\n\\r\\nAnd 7 categories without (CID) patient follow-up (22), medical consultation (23), blood donation (24), laboratory examination (25), unjustified absence (26), physiotherapy (27), dental consultation (28).\\r\\n3. Month of absence\\r\\n4. Day of the week (Monday (2), Tuesday (3), Wednesday (4), Thursday (5), Friday (6))\\r\\n5. Seasons (summer (1), autumn (2), winter (3), spring (4))\\r\\n6. Transportation expense\\r\\n7. Distance from Residence to Work (kilometers)\\r\\n8. Service time\\r\\n9. Age\\r\\n10. Work load Average/day \\r\\n11. Hit target\\r\\n12. Disciplinary failure (yes=1; no=0)\\r\\n13. Education (high school (1), graduate (2), postgraduate (3), master and doctor (4))\\r\\n14. Son (number of children)\\r\\n15. Social drinker (yes=1; no=0)\\r\\n16. Social smoker (yes=1; no=0)\\r\\n17. Pet (number of pet)\\r\\n18. Weight\\r\\n19. Height\\r\\n20. Body mass index\\r\\n21. Absenteeism time in hours (target)\\r\\n\\r\\n.arff header for Weka: \\r\\n\\r\\n@relation Absenteeism_at_work\\r\\n\\r\\n@attribute ID {31.0, 27.0, 19.0, 30.0, 7.0, 20.0, 24.0, 32.0, 3.0, 33.0, 26.0, 29.0, 18.0, 25.0, 17.0, 14.0, 16.0, 23.0, 2.0, 21.0, 36.0, 15.0, 22.0, 5.0, 12.0, 9.0, 6.0, 34.0, 10.0, 28.0, 13.0, 11.0, 1.0, 4.0, 8.0, 35.0}\\r\\n@attribute Reason_for_absence {17.0, 3.0, 15.0, 4.0, 21.0, 2.0, 9.0, 24.0, 18.0, 1.0, 12.0, 5.0, 16.0, 7.0, 27.0, 25.0, 8.0, 10.0, 26.0, 19.0, 28.0, 6.0, 23.0, 22.0, 13.0, 14.0, 11.0, 0.0}\\r\\n@attribute Month_of_absence REAL\\r\\n@attribute Day_of_the_week {5.0, 2.0, 3.0, 4.0, 6.0}\\r\\n@attribute Seasons {4.0, 1.0, 2.0, 3.0}\\r\\n@attribute Transportation_expense REAL\\r\\n@attribute Distance_from_Residence_to_Work REAL\\r\\n@attribute Service_time INTEGER\\r\\n@attribute Age INTEGER\\r\\n@attribute Work_load_Average/day_ REAL\\r\\n@attribute Hit_target REAL\\r\\n@attribute Disciplinary_failure {1.0, 0.0}\\r\\n@attribute Education REAL\\r\\n@attribute Son REAL\\r\\n@attribute Social_drinker {1.0, 0.0}\\r\\n@attribute Social_smoker {1.0, 0.0}\\r\\n@attribute Pet REAL\\r\\n@attribute Weight REAL\\r\\n@attribute Height REAL\\r\\n@attribute Body_mass_index REAL\\r\\n@attribute Absenteeism_time_in_hours REAL', 'citation': None}}\n",
            "                               name     role        type      demographic  \\\n",
            "0                                ID       ID     Integer             None   \n",
            "1                Reason for absence  Feature     Integer             None   \n",
            "2                  Month of absence  Feature     Integer             None   \n",
            "3                   Day of the week  Feature     Integer             None   \n",
            "4                           Seasons  Feature     Integer             None   \n",
            "5            Transportation expense  Feature     Integer             None   \n",
            "6   Distance from Residence to Work  Feature     Integer             None   \n",
            "7                      Service time  Feature     Integer             None   \n",
            "8                               Age  Feature     Integer              Age   \n",
            "9            Work load Average/day   Feature  Continuous             None   \n",
            "10                       Hit target  Feature     Integer             None   \n",
            "11             Disciplinary failure  Feature     Integer             None   \n",
            "12                        Education  Feature     Integer  Education Level   \n",
            "13                              Son  Feature     Integer             None   \n",
            "14                   Social drinker  Feature     Integer             None   \n",
            "15                    Social smoker  Feature     Integer             None   \n",
            "16                              Pet  Feature     Integer             None   \n",
            "17                           Weight  Feature     Integer             None   \n",
            "18                           Height  Feature     Integer             None   \n",
            "19                  Body mass index  Feature     Integer             None   \n",
            "20        Absenteeism time in hours   Target     Integer             None   \n",
            "\n",
            "   description units missing_values  \n",
            "0         None  None             no  \n",
            "1         None  None             no  \n",
            "2         None  None             no  \n",
            "3         None  None             no  \n",
            "4         None  None             no  \n",
            "5         None  None             no  \n",
            "6         None  None             no  \n",
            "7         None  None             no  \n",
            "8         None  None             no  \n",
            "9         None  None             no  \n",
            "10        None  None             no  \n",
            "11        None  None             no  \n",
            "12        None  None             no  \n",
            "13        None  None             no  \n",
            "14        None  None             no  \n",
            "15        None  None             no  \n",
            "16        None  None             no  \n",
            "17        None  None             no  \n",
            "18        None  None             no  \n",
            "19        None  None             no  \n",
            "20        None  None             no  \n"
          ]
        }
      ]
    },
    {
      "cell_type": "code",
      "source": [
        "pip install pandas scikit-learn seaborn matplotlib\n"
      ],
      "metadata": {
        "colab": {
          "base_uri": "https://localhost:8080/"
        },
        "id": "sIbZEcNW4oHM",
        "outputId": "729650fc-e3e5-4e2e-c13d-8aa1fa4fe65e"
      },
      "execution_count": 10,
      "outputs": [
        {
          "output_type": "stream",
          "name": "stdout",
          "text": [
            "Requirement already satisfied: pandas in /usr/local/lib/python3.10/dist-packages (2.2.2)\n",
            "Requirement already satisfied: scikit-learn in /usr/local/lib/python3.10/dist-packages (1.5.2)\n",
            "Requirement already satisfied: seaborn in /usr/local/lib/python3.10/dist-packages (0.13.2)\n",
            "Requirement already satisfied: matplotlib in /usr/local/lib/python3.10/dist-packages (3.8.0)\n",
            "Requirement already satisfied: numpy>=1.22.4 in /usr/local/lib/python3.10/dist-packages (from pandas) (1.26.4)\n",
            "Requirement already satisfied: python-dateutil>=2.8.2 in /usr/local/lib/python3.10/dist-packages (from pandas) (2.8.2)\n",
            "Requirement already satisfied: pytz>=2020.1 in /usr/local/lib/python3.10/dist-packages (from pandas) (2024.2)\n",
            "Requirement already satisfied: tzdata>=2022.7 in /usr/local/lib/python3.10/dist-packages (from pandas) (2024.2)\n",
            "Requirement already satisfied: scipy>=1.6.0 in /usr/local/lib/python3.10/dist-packages (from scikit-learn) (1.13.1)\n",
            "Requirement already satisfied: joblib>=1.2.0 in /usr/local/lib/python3.10/dist-packages (from scikit-learn) (1.4.2)\n",
            "Requirement already satisfied: threadpoolctl>=3.1.0 in /usr/local/lib/python3.10/dist-packages (from scikit-learn) (3.5.0)\n",
            "Requirement already satisfied: contourpy>=1.0.1 in /usr/local/lib/python3.10/dist-packages (from matplotlib) (1.3.1)\n",
            "Requirement already satisfied: cycler>=0.10 in /usr/local/lib/python3.10/dist-packages (from matplotlib) (0.12.1)\n",
            "Requirement already satisfied: fonttools>=4.22.0 in /usr/local/lib/python3.10/dist-packages (from matplotlib) (4.55.0)\n",
            "Requirement already satisfied: kiwisolver>=1.0.1 in /usr/local/lib/python3.10/dist-packages (from matplotlib) (1.4.7)\n",
            "Requirement already satisfied: packaging>=20.0 in /usr/local/lib/python3.10/dist-packages (from matplotlib) (24.2)\n",
            "Requirement already satisfied: pillow>=6.2.0 in /usr/local/lib/python3.10/dist-packages (from matplotlib) (11.0.0)\n",
            "Requirement already satisfied: pyparsing>=2.3.1 in /usr/local/lib/python3.10/dist-packages (from matplotlib) (3.2.0)\n",
            "Requirement already satisfied: six>=1.5 in /usr/local/lib/python3.10/dist-packages (from python-dateutil>=2.8.2->pandas) (1.16.0)\n"
          ]
        }
      ]
    },
    {
      "cell_type": "code",
      "source": [
        "pip install pandas scikit-learn seaborn matplotlib\n"
      ],
      "metadata": {
        "colab": {
          "base_uri": "https://localhost:8080/"
        },
        "id": "MGAqH-yQ5Hmm",
        "outputId": "c55e392c-46ce-4fd8-83c2-a314d1331150"
      },
      "execution_count": 12,
      "outputs": [
        {
          "output_type": "stream",
          "name": "stdout",
          "text": [
            "Requirement already satisfied: pandas in /usr/local/lib/python3.10/dist-packages (2.2.2)\n",
            "Requirement already satisfied: scikit-learn in /usr/local/lib/python3.10/dist-packages (1.5.2)\n",
            "Requirement already satisfied: seaborn in /usr/local/lib/python3.10/dist-packages (0.13.2)\n",
            "Requirement already satisfied: matplotlib in /usr/local/lib/python3.10/dist-packages (3.8.0)\n",
            "Requirement already satisfied: numpy>=1.22.4 in /usr/local/lib/python3.10/dist-packages (from pandas) (1.26.4)\n",
            "Requirement already satisfied: python-dateutil>=2.8.2 in /usr/local/lib/python3.10/dist-packages (from pandas) (2.8.2)\n",
            "Requirement already satisfied: pytz>=2020.1 in /usr/local/lib/python3.10/dist-packages (from pandas) (2024.2)\n",
            "Requirement already satisfied: tzdata>=2022.7 in /usr/local/lib/python3.10/dist-packages (from pandas) (2024.2)\n",
            "Requirement already satisfied: scipy>=1.6.0 in /usr/local/lib/python3.10/dist-packages (from scikit-learn) (1.13.1)\n",
            "Requirement already satisfied: joblib>=1.2.0 in /usr/local/lib/python3.10/dist-packages (from scikit-learn) (1.4.2)\n",
            "Requirement already satisfied: threadpoolctl>=3.1.0 in /usr/local/lib/python3.10/dist-packages (from scikit-learn) (3.5.0)\n",
            "Requirement already satisfied: contourpy>=1.0.1 in /usr/local/lib/python3.10/dist-packages (from matplotlib) (1.3.1)\n",
            "Requirement already satisfied: cycler>=0.10 in /usr/local/lib/python3.10/dist-packages (from matplotlib) (0.12.1)\n",
            "Requirement already satisfied: fonttools>=4.22.0 in /usr/local/lib/python3.10/dist-packages (from matplotlib) (4.55.0)\n",
            "Requirement already satisfied: kiwisolver>=1.0.1 in /usr/local/lib/python3.10/dist-packages (from matplotlib) (1.4.7)\n",
            "Requirement already satisfied: packaging>=20.0 in /usr/local/lib/python3.10/dist-packages (from matplotlib) (24.2)\n",
            "Requirement already satisfied: pillow>=6.2.0 in /usr/local/lib/python3.10/dist-packages (from matplotlib) (11.0.0)\n",
            "Requirement already satisfied: pyparsing>=2.3.1 in /usr/local/lib/python3.10/dist-packages (from matplotlib) (3.2.0)\n",
            "Requirement already satisfied: six>=1.5 in /usr/local/lib/python3.10/dist-packages (from python-dateutil>=2.8.2->pandas) (1.16.0)\n"
          ]
        }
      ]
    },
    {
      "cell_type": "code",
      "source": [
        "import pandas as pd\n",
        "from sklearn.model_selection import train_test_split\n",
        "from sklearn.linear_model import LogisticRegression\n",
        "from sklearn.preprocessing import StandardScaler\n",
        "from sklearn.metrics import confusion_matrix, classification_report\n",
        "import seaborn as sns\n",
        "import matplotlib.pyplot as plt\n",
        "\n",
        "# Load the dataset\n",
        "file_path = 'Absenteeism_at_work.xls'  # Replace with your file path\n",
        "data = pd.read_excel(file_path)\n",
        "\n",
        "# Preprocess the data\n",
        "# Example: Fill missing values with the mean\n",
        "data.fillna(data.mean(), inplace=True)\n",
        "\n",
        "# Define features and target\n",
        "# Replace 'Reason_for_absence' with your actual target column\n",
        "target_column = 'Reason for absence'  # Update with the actual target column name\n",
        "X = data.drop(columns=[target_column])  # Features\n",
        "y = data[target_column]  # Target\n",
        "\n",
        "# Split the data into training and test sets\n",
        "X_train, X_test, y_train, y_test = train_test_split(X, y, test_size=0.2, random_state=42)\n",
        "\n",
        "# Standardize the features\n",
        "scaler = StandardScaler()\n",
        "X_train = scaler.fit_transform(X_train)\n",
        "X_test = scaler.transform(X_test)\n",
        "\n",
        "# Train the logistic regression model\n",
        "model = LogisticRegression(max_iter=1000)  # Increase max_iter if convergence issues occur\n",
        "model.fit(X_train, y_train)\n",
        "\n",
        "# Predict on test data\n",
        "y_pred = model.predict(X_test)\n",
        "\n",
        "# Generate the confusion matrix\n",
        "conf_matrix = confusion_matrix(y_test, y_pred)\n",
        "\n",
        "# Plot the confusion matrix\n",
        "plt.figure(figsize=(8, 6))\n",
        "sns.heatmap(conf_matrix, annot=True, fmt='d', cmap='Blues', xticklabels=model.classes_, yticklabels=model.classes_)\n",
        "plt.title('Confusion Matrix')\n",
        "plt.xlabel('Predicted')\n",
        "plt.ylabel('Actual')\n",
        "plt.show()\n",
        "\n",
        "# Print the classification report\n",
        "print(\"Classification Report:\")\n",
        "print(classification_report(y_test, y_pred))\n"
      ],
      "metadata": {
        "colab": {
          "base_uri": "https://localhost:8080/",
          "height": 1000
        },
        "id": "ej2fVAQe5Opn",
        "outputId": "99c49450-f2f7-4ade-a7ab-a02737ce73b8"
      },
      "execution_count": 14,
      "outputs": [
        {
          "output_type": "display_data",
          "data": {
            "text/plain": [
              "<Figure size 800x600 with 2 Axes>"
            ],
            "image/png": "[encoded data removed]"
          },
          "metadata": {}
        },
        {
          "output_type": "stream",
          "name": "stdout",
          "text": [
            "Classification Report:\n",
            "              precision    recall  f1-score   support\n",
            "\n",
            "           0       1.00      1.00      1.00        10\n",
            "           1       0.00      0.00      0.00         5\n",
            "           2       0.00      0.00      0.00         1\n",
            "           6       0.00      0.00      0.00         1\n",
            "           7       0.00      0.00      0.00         2\n",
            "           8       0.00      0.00      0.00         1\n",
            "          10       0.25      0.20      0.22         5\n",
            "          11       0.00      0.00      0.00         4\n",
            "          12       0.00      0.00      0.00         3\n",
            "          13       0.38      0.30      0.33        10\n",
            "          14       0.00      0.00      0.00         3\n",
            "          15       0.00      0.00      0.00         1\n",
            "          17       0.00      0.00      0.00         1\n",
            "          18       0.00      0.00      0.00         6\n",
            "          19       0.00      0.00      0.00         6\n",
            "          21       0.00      0.00      0.00         0\n",
            "          22       0.20      0.33      0.25         6\n",
            "          23       0.44      0.60      0.51        35\n",
            "          25       0.33      0.40      0.36         5\n",
            "          26       0.40      0.20      0.27        10\n",
            "          27       0.40      0.89      0.55         9\n",
            "          28       0.38      0.38      0.38        24\n",
            "\n",
            "    accuracy                           0.39       148\n",
            "   macro avg       0.17      0.20      0.18       148\n",
            "weighted avg       0.34      0.39      0.35       148\n",
            "\n"
          ]
        },
        {
          "output_type": "stream",
          "name": "stderr",
          "text": [
            "/usr/local/lib/python3.10/dist-packages/sklearn/metrics/_classification.py:1531: UndefinedMetricWarning: Precision is ill-defined and being set to 0.0 in labels with no predicted samples. Use `zero_division` parameter to control this behavior.\n",
            "  _warn_prf(average, modifier, f\"{metric.capitalize()} is\", len(result))\n",
            "/usr/local/lib/python3.10/dist-packages/sklearn/metrics/_classification.py:1531: UndefinedMetricWarning: Recall is ill-defined and being set to 0.0 in labels with no true samples. Use `zero_division` parameter to control this behavior.\n",
            "  _warn_prf(average, modifier, f\"{metric.capitalize()} is\", len(result))\n",
            "/usr/local/lib/python3.10/dist-packages/sklearn/metrics/_classification.py:1531: UndefinedMetricWarning: Precision is ill-defined and being set to 0.0 in labels with no predicted samples. Use `zero_division` parameter to control this behavior.\n",
            "  _warn_prf(average, modifier, f\"{metric.capitalize()} is\", len(result))\n",
            "/usr/local/lib/python3.10/dist-packages/sklearn/metrics/_classification.py:1531: UndefinedMetricWarning: Recall is ill-defined and being set to 0.0 in labels with no true samples. Use `zero_division` parameter to control this behavior.\n",
            "  _warn_prf(average, modifier, f\"{metric.capitalize()} is\", len(result))\n",
            "/usr/local/lib/python3.10/dist-packages/sklearn/metrics/_classification.py:1531: UndefinedMetricWarning: Precision is ill-defined and being set to 0.0 in labels with no predicted samples. Use `zero_division` parameter to control this behavior.\n",
            "  _warn_prf(average, modifier, f\"{metric.capitalize()} is\", len(result))\n",
            "/usr/local/lib/python3.10/dist-packages/sklearn/metrics/_classification.py:1531: UndefinedMetricWarning: Recall is ill-defined and being set to 0.0 in labels with no true samples. Use `zero_division` parameter to control this behavior.\n",
            "  _warn_prf(average, modifier, f\"{metric.capitalize()} is\", len(result))\n"
          ]
        }
      ]
    },
    {
      "cell_type": "code",
      "source": [
        "import pandas as pd\n",
        "\n",
        "# Load the dataset\n",
        "file_path = '/content/Absenteeism_at_work.xls'\n",
        "data = pd.read_excel(file_path)\n",
        "\n",
        "# Display the first few rows of the dataset to inspect its structure\n",
        "data.head(), data.columns\n"
      ],
      "metadata": {
        "colab": {
          "base_uri": "https://localhost:8080/"
        },
        "id": "7iYnyAyg5lKE",
        "outputId": "7b7cd59f-5242-4dd9-d077-62958180fa47"
      },
      "execution_count": 15,
      "outputs": [
        {
          "output_type": "execute_result",
          "data": {
            "text/plain": [
              "(   ID  Reason for absence  Month of absence  Day of the week  Seasons  \\\n",
              " 0  11                  26                 7                3        1   \n",
              " 1  36                   0                 7                3        1   \n",
              " 2   3                  23                 7                4        1   \n",
              " 3   7                   7                 7                5        1   \n",
              " 4  11                  23                 7                5        1   \n",
              " \n",
              "    Transportation expense  Distance from Residence to Work  Service time  Age  \\\n",
              " 0                     289                               36            13   33   \n",
              " 1                     118                               13            18   50   \n",
              " 2                     179                               51            18   38   \n",
              " 3                     279                                5            14   39   \n",
              " 4                     289                               36            13   33   \n",
              " \n",
              "    Work load Average/day   ...  Disciplinary failure  Education  Son  \\\n",
              " 0                  239554  ...                     0          1    2   \n",
              " 1                  239554  ...                     1          1    1   \n",
              " 2                  239554  ...                     0          1    0   \n",
              " 3                  239554  ...                     0          1    2   \n",
              " 4                  239554  ...                     0          1    2   \n",
              " \n",
              "    Social drinker  Social smoker  Pet  Weight  Height  Body mass index  \\\n",
              " 0               1              0    1      90     172               30   \n",
              " 1               1              0    0      98     178               31   \n",
              " 2               1              0    0      89     170               31   \n",
              " 3               1              1    0      68     168               24   \n",
              " 4               1              0    1      90     172               30   \n",
              " \n",
              "    Absenteeism time in hours  \n",
              " 0                          4  \n",
              " 1                          0  \n",
              " 2                          2  \n",
              " 3                          4  \n",
              " 4                          2  \n",
              " \n",
              " [5 rows x 21 columns],\n",
              " Index(['ID', 'Reason for absence', 'Month of absence', 'Day of the week',\n",
              "        'Seasons', 'Transportation expense', 'Distance from Residence to Work',\n",
              "        'Service time', 'Age', 'Work load Average/day ', 'Hit target',\n",
              "        'Disciplinary failure', 'Education', 'Son', 'Social drinker',\n",
              "        'Social smoker', 'Pet', 'Weight', 'Height', 'Body mass index',\n",
              "        'Absenteeism time in hours'],\n",
              "       dtype='object'))"
            ]
          },
          "metadata": {},
          "execution_count": 15
        }
      ]
    },
    {
      "cell_type": "code",
      "source": [
        "import pandas as pd\n",
        "\n",
        "# Load the dataset\n",
        "file_path = 'Absenteeism_at_work.xls'  # Replace with your file path\n",
        "data = pd.read_excel(file_path)\n",
        "\n",
        "# Check the column name that contains the reasons for absenteeism\n",
        "# Replace 'Reason_for_absence' with the actual column name\n",
        "reasons_column = 'Reason for absence'  # Update if needed\n",
        "\n",
        "# Calculate the frequency of each reason\n",
        "reason_counts = data[reasons_column].value_counts()\n",
        "\n",
        "# Get the top 5 reasons\n",
        "top_5_reasons = reason_counts.head(5)\n",
        "\n",
        "# Display the results\n",
        "print(\"Top 5 Reasons for Absenteeism:\")\n",
        "print(top_5_reasons)\n"
      ],
      "metadata": {
        "colab": {
          "base_uri": "https://localhost:8080/"
        },
        "id": "XBLrqnwf6V5m",
        "outputId": "e76deacf-c552-47bb-d7a6-f4eb833b7076"
      },
      "execution_count": 17,
      "outputs": [
        {
          "output_type": "stream",
          "name": "stdout",
          "text": [
            "Top 5 Reasons for Absenteeism:\n",
            "Reason for absence\n",
            "23    149\n",
            "28    112\n",
            "27     69\n",
            "13     55\n",
            "0      43\n",
            "Name: count, dtype: int64\n"
          ]
        }
      ]
    },
    {
      "cell_type": "code",
      "source": [
        "import pandas as pd\n",
        "\n",
        "# Load the dataset\n",
        "file_path = 'Absenteeism_at_work.xls'  # Replace with your file path\n",
        "data = pd.read_excel(file_path)\n",
        "\n",
        "# Define the column names\n",
        "# Replace these with the actual column names in your dataset\n",
        "reason_column = 'Reason for absence'  # Column with reason codes\n",
        "reason_description_column = 'Reason Description'  # Optional: Column with reason labels (if available)\n",
        "\n",
        "# Calculate the frequency of each reason\n",
        "reason_counts = data[reason_column].value_counts()\n",
        "\n",
        "# Get the top 5 reasons\n",
        "top_5_reasons = reason_counts.head(5)\n",
        "\n",
        "# If a description column is available, map reasons to their labels\n",
        "if reason_description_column in data.columns:\n",
        "    reason_labels = data[[reason_column, reason_description_column]].drop_duplicates().set_index(reason_column)\n",
        "    top_5_reasons_with_labels = top_5_reasons.to_frame('Count').join(reason_labels, how='left')\n",
        "    print(\"Top 5 Reasons for Absenteeism with Labels:\")\n",
        "    print(top_5_reasons_with_labels)\n",
        "else:\n",
        "    print(\"Top 5 Reasons for Absenteeism (No Descriptions Available):\")\n",
        "    print(top_5_reasons)\n"
      ],
      "metadata": {
        "colab": {
          "base_uri": "https://localhost:8080/"
        },
        "id": "cKdgl4xY7izY",
        "outputId": "1a36d31d-0ec9-4084-a7d5-21ea502a8767"
      },
      "execution_count": 25,
      "outputs": [
        {
          "output_type": "stream",
          "name": "stdout",
          "text": [
            "Top 5 Reasons for Absenteeism (No Descriptions Available):\n",
            "Reason for absence\n",
            "23    149\n",
            "28    112\n",
            "27     69\n",
            "13     55\n",
            "0      43\n",
            "Name: count, dtype: int64\n"
          ]
        }
      ]
    },
    {
      "cell_type": "code",
      "source": [
        "import pandas as pd\n",
        "\n",
        "# Load the dataset\n",
        "file_path = 'Absenteeism_at_work.xls'  # Replace with your file path\n",
        "data = pd.read_excel(file_path)\n",
        "\n",
        "# Check the column name that contains age information\n",
        "# Replace 'Age' with the actual column name in your dataset\n",
        "age_column = 'Age'  # Update with the actual column name\n",
        "\n",
        "# Find the maximum and minimum age\n",
        "max_age = data[age_column].max()\n",
        "min_age = data[age_column].min()\n",
        "\n",
        "# Display the results\n",
        "print(f\"The maximum age of employees is: {max_age}\")\n",
        "print(f\"The minimum age of employees is: {min_age}\")\n"
      ],
      "metadata": {
        "colab": {
          "base_uri": "https://localhost:8080/"
        },
        "id": "Ux_044gQ-hgb",
        "outputId": "ba4f7375-78b2-45ec-ed24-e529fb652b08"
      },
      "execution_count": 31,
      "outputs": [
        {
          "output_type": "stream",
          "name": "stdout",
          "text": [
            "The maximum age of employees is: 58\n",
            "The minimum age of employees is: 27\n"
          ]
        }
      ]
    }
  ]
}